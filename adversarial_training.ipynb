{
 "cells": [
  {
   "cell_type": "markdown",
   "metadata": {
    "id": "Whsg1XX_OZs6"
   },
   "source": [
    "# Boilerplate\n",
    "\n",
    "Package installation, loading, and dataloaders. There's also a simple model defined. You can change it your favourite architecture if you want."
   ]
  },
  {
   "cell_type": "code",
   "execution_count": 680,
   "metadata": {
    "id": "R1domTvnONqD",
    "scrolled": true
   },
   "outputs": [
    {
     "data": {
      "text/plain": [
       "Sequential(\n",
       "  (0): Normalize()\n",
       "  (1): Net(\n",
       "    (fc): Linear(in_features=784, out_features=200, bias=True)\n",
       "    (fc2): Linear(in_features=200, out_features=10, bias=True)\n",
       "  )\n",
       ")"
      ]
     },
     "execution_count": 680,
     "metadata": {},
     "output_type": "execute_result"
    }
   ],
   "source": [
    "# !pip install tensorboardX\n",
    "\n",
    "import torch\n",
    "import torch.nn as nn\n",
    "import torch.optim as optim\n",
    "import torch.nn.functional as F\n",
    "import numpy as np\n",
    "import time\n",
    "import matplotlib.pyplot as plt\n",
    "\n",
    "from torchvision import datasets, transforms\n",
    "# from tensorboardX import SummaryWriter\n",
    "\n",
    "use_cuda = False\n",
    "device = torch.device(\"cuda\" if use_cuda else \"cpu\")\n",
    "batch_size = 64\n",
    "\n",
    "np.random.seed(42)\n",
    "torch.manual_seed(42)\n",
    "\n",
    "\n",
    "## Dataloaders\n",
    "train_dataset = datasets.MNIST('mnist_data/', train=True, download=True, transform=transforms.Compose(\n",
    "    [transforms.ToTensor()]\n",
    "))\n",
    "test_dataset = datasets.MNIST('mnist_data/', train=False, download=True, transform=transforms.Compose(\n",
    "    [transforms.ToTensor()]\n",
    "))\n",
    "\n",
    "train_loader = torch.utils.data.DataLoader(train_dataset, batch_size=batch_size, shuffle=True)\n",
    "test_loader = torch.utils.data.DataLoader(test_dataset, batch_size=batch_size, shuffle=False)\n",
    "\n",
    "## Simple NN. You can change this if you want. If you change it, mention the architectural details in your report.\n",
    "class Net(nn.Module):\n",
    "    def __init__(self):\n",
    "        super(Net, self).__init__()\n",
    "        self.fc = nn.Linear(28*28, 200)\n",
    "        self.fc2 = nn.Linear(200,10)\n",
    "\n",
    "    def forward(self, x):\n",
    "        x = x.view((-1, 28*28))\n",
    "        x = F.relu(self.fc(x))\n",
    "        x = self.fc2(x)\n",
    "        return x\n",
    "\n",
    "class Normalize(nn.Module):\n",
    "    def forward(self, x):\n",
    "        return (x - 0.1307)/0.3081\n",
    "\n",
    "# Add the data normalization as a first \"layer\" to the network\n",
    "# this allows us to search for adverserial examples to the real image, rather than\n",
    "# to the normalized image\n",
    "model = nn.Sequential(Normalize(), Net())\n",
    "\n",
    "model = model.to(device)\n",
    "model.train()\n"
   ]
  },
  {
   "cell_type": "markdown",
   "metadata": {
    "id": "NCmWfZHTO8Oo"
   },
   "source": [
    "# Implement the Attacks\n",
    "\n",
    "Functions are given a simple useful signature that you can start with. Feel free to extend the signature as you see fit.\n",
    "\n",
    "You may find it useful to create a 'batched' version of PGD that you can use to create the adversarial attack."
   ]
  },
  {
   "cell_type": "code",
   "execution_count": 782,
   "metadata": {
    "id": "EZjvA49yONqP"
   },
   "outputs": [],
   "source": [
    "# The last argument 'targeted' can be used to toggle between a targeted and untargeted attack.\n",
    "def fgsm(model, x, eps, y):\n",
    "    #TODO: implement this as an intermediate step of PGD\n",
    "    # Notes: put the model in eval() mode for this function\n",
    "    model.eval()\n",
    "    x = x.clone().detach()\n",
    "    x.requires_grad = True\n",
    "    model_output = model(x)\n",
    "    entropy_loss = nn.CrossEntropyLoss()\n",
    "    loss = entropy_loss(model_output, y)\n",
    "    model.zero_grad()\n",
    "    loss.backward()\n",
    "    loss_grad = x.grad.data\n",
    "    sign_loss_grad = loss_grad.sign()\n",
    "    eta = eps*loss_grad.sign()\n",
    "    perturbed_output = x+eta\n",
    "    return perturbed_output\n",
    "\n",
    "def pgd_untargeted(model, x, y, k, eps, eps_step):\n",
    "    #TODO: implement this \n",
    "    # Notes: put the model in eval() mode for this function\n",
    "    # x: input image\n",
    "    # y: ground truth label for x\n",
    "    # k: steps of FGSM\n",
    "    # eps: projection region for PGD (note the need for normalization before projection, as eps values are for inputs in [0,1])\n",
    "    # eps_step: step for one iteration of FGSM\n",
    "    model.eval()\n",
    "    adv=x\n",
    "    for i in range(k):\n",
    "        adv = fgsm(model, adv, eps_step, y)\n",
    "        #clipping\n",
    "        adv = torch.clamp(adv, x-eps, x+eps)\n",
    "    return adv\n",
    "#return adverserial examples\n",
    "def pgd_untargeted_batch(model, inputs, targets, eps):\n",
    "    k=10\n",
    "    perturbed_inputs = []\n",
    "    for i in range(len(inputs)):\n",
    "        x = inputs[i]\n",
    "        y = targets[i]\n",
    "        perturbed_data = pgd_untargeted(model, x, torch.atleast_1d(y), k, eps, eps)\n",
    "        perturbed_inputs.append(perturbed_data)\n",
    "    return torch.cat(perturbed_inputs, dim=0)"
   ]
  },
  {
   "cell_type": "markdown",
   "metadata": {
    "id": "0Mja_AB4RykO"
   },
   "source": [
    "# Implement Adversarial Training"
   ]
  },
  {
   "cell_type": "code",
   "execution_count": 842,
   "metadata": {
    "id": "V-sw8yKYONqQ"
   },
   "outputs": [],
   "source": [
    "def train_model(model, num_epochs, enable_defense=True, attack='pgd', eps=0.1):\n",
    "    # TODO: implement this function that trains a given model on the MNIST dataset.\n",
    "    # this is a general-purpose function for both standard training and adversarial training.\n",
    "    # (toggle enable_defense parameter to switch between training schemes)\n",
    "    model.train()\n",
    "    optimizer = optim.Adadelta(model.parameters(), lr=1)\n",
    "    for i in range(num_epochs):\n",
    "        for idx, (data, target) in enumerate(train_loader):\n",
    "            data, target = data.to(device), target.to(device)\n",
    "            optimizer.zero_grad()\n",
    "            output = model(data)\n",
    "            loss = nn.CrossEntropyLoss()(output, target)\n",
    "            loss.backward()\n",
    "            optimizer.step()\n",
    "        \n",
    "        if enable_defense:            \n",
    "            for idx2, (data, targets) in enumerate(train_loader):\n",
    "                data, targets = data.to(device), targets.to(device)\n",
    "                optimizer.zero_grad()\n",
    "                pgd_data = pgd_untargeted_batch(model, data, targets, eps)\n",
    "                adv_output = model(pgd_data)\n",
    "                loss = nn.CrossEntropyLoss()(adv_output, targets)\n",
    "                loss.backward()\n",
    "                optimizer.step()\n",
    "                \n",
    "                if idx2 % 10 == 0:\n",
    "                    print('num_epoch: {} [{}/{} ({:.0f}%)]\\tLoss: {:.6f}'.format(\n",
    "                        num_epochs, idx2 * len(pgd_data), len(train_loader.dataset),\n",
    "                        100. * idx2 / len(train_loader), loss.item()))\n",
    "                \n",
    "\n",
    "        \n",
    "    "
   ]
  },
  {
   "cell_type": "code",
   "execution_count": 844,
   "metadata": {},
   "outputs": [],
   "source": [
    "def test_model_on_attacks(model, attack='pgd', eps=0.1):\n",
    "    # TODO: implement this function to test the robust accuracy of the given model\n",
    "    # use pgd_untargeted() within this function\n",
    "    model.eval()\n",
    "    correct = 0\n",
    "    total = 0\n",
    "    for data, targets in test_loader:\n",
    "        data,targets = data.to(device), targets.to(device)\n",
    "        if attack == 'pgd':\n",
    "            total +=len(data)\n",
    "            ori_output = model(data)\n",
    "            ori_prediction = ori_output.argmax(1, keepdim=True)\n",
    "            correct+=ori_prediction.eq(targets.view_as(ori_prediction)).sum().item()\n",
    "        total +=len(data)\n",
    "        pgd_data = pgd_untargeted_batch(model, data, targets, eps)\n",
    "        pgd_output = model(pgd_data)\n",
    "        prediction_after_attack = pgd_output.argmax(dim=1, keepdim=True)\n",
    "        correct+=prediction_after_attack.eq(targets.view_as(prediction_after_attack)).sum().item()\n",
    "    print('\\n Eps: {}, Robustness: {}/{} ({:.0f}%)\\n'.format(\n",
    "        eps, correct, total,\n",
    "        100. * correct / total))\n",
    "\n",
    "#standard testing\n",
    "def standard_test(model, device, test_loader):\n",
    "    model.eval()\n",
    "    correct = 0\n",
    "    for data, target in test_loader:\n",
    "        data, target = data.to(device), target.to(device)\n",
    "        output = model(data)\n",
    "        pred = output.argmax(dim=1, keepdim=True) \n",
    "        correct += pred.eq(target.view_as(pred)).sum().item()\n",
    "\n",
    "    print('\\n Accuracy: {}/{} ({:.0f}%)\\n'.format(\n",
    "        correct, len(test_loader.dataset),\n",
    "        100. * correct / len(test_loader.dataset)))"
   ]
  },
  {
   "cell_type": "markdown",
   "metadata": {
    "id": "ZPMdfEhtR3zm"
   },
   "source": [
    "# Study Accuracy, Quality, etc.\n",
    "\n",
    "Compare the various results and report your observations on the submission."
   ]
  },
  {
   "cell_type": "code",
   "execution_count": 702,
   "metadata": {
    "scrolled": true
   },
   "outputs": [],
   "source": [
    "## train the original model\n",
    "model = nn.Sequential(Normalize(), Net())\n",
    "model = model.to(device)\n",
    "model.train()\n",
    "\n",
    "train_model(model, 20, False)\n",
    "torch.save(model.state_dict(), 'weights.pt')"
   ]
  },
  {
   "cell_type": "code",
   "execution_count": 754,
   "metadata": {},
   "outputs": [
    {
     "name": "stdout",
     "output_type": "stream",
     "text": [
      "\n",
      " Eps: 0.05, Robustness: 15672/20000 (78%)\n",
      "\n",
      "\n",
      " Eps: 0.1, Robustness: 10413/20000 (52%)\n",
      "\n",
      "\n",
      " Eps: 0.15, Robustness: 9728/20000 (49%)\n",
      "\n",
      "\n",
      " Eps: 0.2, Robustness: 9709/20000 (49%)\n",
      "\n"
     ]
    }
   ],
   "source": [
    "## PGD attack\n",
    "model = nn.Sequential(Normalize(), Net())\n",
    "model.load_state_dict(torch.load('weights.pt'))\n",
    "\n",
    "for eps in [0.05, 0.1, 0.15, 0.2]:\n",
    "    test_model_on_attacks(model, attack='pgd', eps=eps)"
   ]
  },
  {
   "cell_type": "code",
   "execution_count": 740,
   "metadata": {},
   "outputs": [
    {
     "name": "stdout",
     "output_type": "stream",
     "text": [
      "\n",
      " Accuracy: 9709/10000 (97%)\n",
      "\n"
     ]
    }
   ],
   "source": [
    "standard_test(model, device, test_loader)"
   ]
  },
  {
   "cell_type": "code",
   "execution_count": 770,
   "metadata": {
    "id": "ufD-ccTFR8R2"
   },
   "outputs": [
    {
     "name": "stdout",
     "output_type": "stream",
     "text": [
      "num_epoch: 20 [0/60000 (0%)]\tLoss: 20.461508\n",
      "num_epoch: 20 [640/60000 (1%)]\tLoss: 9.980598\n",
      "num_epoch: 20 [1280/60000 (2%)]\tLoss: 7.526884\n",
      "num_epoch: 20 [1920/60000 (3%)]\tLoss: 5.056696\n",
      "num_epoch: 20 [2560/60000 (4%)]\tLoss: 4.326157\n",
      "num_epoch: 20 [3200/60000 (5%)]\tLoss: 5.216322\n",
      "num_epoch: 20 [3840/60000 (6%)]\tLoss: 4.044105\n",
      "num_epoch: 20 [4480/60000 (7%)]\tLoss: 4.356629\n",
      "num_epoch: 20 [5120/60000 (9%)]\tLoss: 3.851897\n",
      "num_epoch: 20 [5760/60000 (10%)]\tLoss: 3.397009\n",
      "num_epoch: 20 [6400/60000 (11%)]\tLoss: 3.530306\n",
      "num_epoch: 20 [7040/60000 (12%)]\tLoss: 3.930245\n",
      "num_epoch: 20 [7680/60000 (13%)]\tLoss: 3.221768\n",
      "num_epoch: 20 [8320/60000 (14%)]\tLoss: 3.252625\n",
      "num_epoch: 20 [8960/60000 (15%)]\tLoss: 2.882578\n",
      "num_epoch: 20 [9600/60000 (16%)]\tLoss: 2.858716\n",
      "num_epoch: 20 [10240/60000 (17%)]\tLoss: 3.077317\n",
      "num_epoch: 20 [10880/60000 (18%)]\tLoss: 2.859233\n",
      "num_epoch: 20 [11520/60000 (19%)]\tLoss: 3.071784\n",
      "num_epoch: 20 [12160/60000 (20%)]\tLoss: 3.225285\n",
      "num_epoch: 20 [12800/60000 (21%)]\tLoss: 2.966455\n",
      "num_epoch: 20 [13440/60000 (22%)]\tLoss: 2.700651\n",
      "num_epoch: 20 [14080/60000 (23%)]\tLoss: 2.607375\n",
      "num_epoch: 20 [14720/60000 (25%)]\tLoss: 2.827631\n",
      "num_epoch: 20 [15360/60000 (26%)]\tLoss: 2.560448\n",
      "num_epoch: 20 [16000/60000 (27%)]\tLoss: 2.338546\n",
      "num_epoch: 20 [16640/60000 (28%)]\tLoss: 3.113050\n",
      "num_epoch: 20 [17280/60000 (29%)]\tLoss: 2.794944\n",
      "num_epoch: 20 [17920/60000 (30%)]\tLoss: 2.508202\n",
      "num_epoch: 20 [18560/60000 (31%)]\tLoss: 2.589122\n",
      "num_epoch: 20 [19200/60000 (32%)]\tLoss: 2.928514\n",
      "num_epoch: 20 [19840/60000 (33%)]\tLoss: 2.439868\n",
      "num_epoch: 20 [20480/60000 (34%)]\tLoss: 2.514627\n",
      "num_epoch: 20 [21120/60000 (35%)]\tLoss: 2.372958\n",
      "num_epoch: 20 [21760/60000 (36%)]\tLoss: 2.289375\n",
      "num_epoch: 20 [22400/60000 (37%)]\tLoss: 2.492418\n",
      "num_epoch: 20 [23040/60000 (38%)]\tLoss: 2.559314\n",
      "num_epoch: 20 [23680/60000 (39%)]\tLoss: 2.254659\n",
      "num_epoch: 20 [24320/60000 (41%)]\tLoss: 2.474580\n",
      "num_epoch: 20 [24960/60000 (42%)]\tLoss: 2.457611\n",
      "num_epoch: 20 [25600/60000 (43%)]\tLoss: 2.227695\n",
      "num_epoch: 20 [26240/60000 (44%)]\tLoss: 2.536129\n",
      "num_epoch: 20 [26880/60000 (45%)]\tLoss: 2.347396\n",
      "num_epoch: 20 [27520/60000 (46%)]\tLoss: 2.010729\n",
      "num_epoch: 20 [28160/60000 (47%)]\tLoss: 2.216945\n",
      "num_epoch: 20 [28800/60000 (48%)]\tLoss: 2.302193\n",
      "num_epoch: 20 [29440/60000 (49%)]\tLoss: 2.169846\n",
      "num_epoch: 20 [30080/60000 (50%)]\tLoss: 2.239402\n",
      "num_epoch: 20 [30720/60000 (51%)]\tLoss: 2.306788\n",
      "num_epoch: 20 [31360/60000 (52%)]\tLoss: 2.302986\n",
      "num_epoch: 20 [32000/60000 (53%)]\tLoss: 2.130056\n",
      "num_epoch: 20 [32640/60000 (54%)]\tLoss: 2.184384\n",
      "num_epoch: 20 [33280/60000 (55%)]\tLoss: 2.443987\n",
      "num_epoch: 20 [33920/60000 (57%)]\tLoss: 2.465843\n",
      "num_epoch: 20 [34560/60000 (58%)]\tLoss: 2.451206\n",
      "num_epoch: 20 [35200/60000 (59%)]\tLoss: 2.491933\n",
      "num_epoch: 20 [35840/60000 (60%)]\tLoss: 2.444201\n",
      "num_epoch: 20 [36480/60000 (61%)]\tLoss: 2.239424\n",
      "num_epoch: 20 [37120/60000 (62%)]\tLoss: 2.113628\n",
      "num_epoch: 20 [37760/60000 (63%)]\tLoss: 2.392320\n",
      "num_epoch: 20 [38400/60000 (64%)]\tLoss: 2.063149\n",
      "num_epoch: 20 [39040/60000 (65%)]\tLoss: 2.438729\n",
      "num_epoch: 20 [39680/60000 (66%)]\tLoss: 2.438596\n",
      "num_epoch: 20 [40320/60000 (67%)]\tLoss: 2.298639\n",
      "num_epoch: 20 [40960/60000 (68%)]\tLoss: 2.320868\n",
      "num_epoch: 20 [41600/60000 (69%)]\tLoss: 2.140779\n",
      "num_epoch: 20 [42240/60000 (70%)]\tLoss: 2.252260\n",
      "num_epoch: 20 [42880/60000 (71%)]\tLoss: 2.204654\n",
      "num_epoch: 20 [43520/60000 (72%)]\tLoss: 2.154400\n",
      "num_epoch: 20 [44160/60000 (74%)]\tLoss: 2.068103\n",
      "num_epoch: 20 [44800/60000 (75%)]\tLoss: 1.875294\n",
      "num_epoch: 20 [45440/60000 (76%)]\tLoss: 2.069844\n",
      "num_epoch: 20 [46080/60000 (77%)]\tLoss: 1.857626\n",
      "num_epoch: 20 [46720/60000 (78%)]\tLoss: 2.346566\n",
      "num_epoch: 20 [47360/60000 (79%)]\tLoss: 2.089749\n",
      "num_epoch: 20 [48000/60000 (80%)]\tLoss: 2.188024\n",
      "num_epoch: 20 [48640/60000 (81%)]\tLoss: 2.074278\n",
      "num_epoch: 20 [49280/60000 (82%)]\tLoss: 2.264388\n",
      "num_epoch: 20 [49920/60000 (83%)]\tLoss: 2.113339\n",
      "num_epoch: 20 [50560/60000 (84%)]\tLoss: 1.982547\n",
      "num_epoch: 20 [51200/60000 (85%)]\tLoss: 2.339663\n",
      "num_epoch: 20 [51840/60000 (86%)]\tLoss: 2.118809\n",
      "num_epoch: 20 [52480/60000 (87%)]\tLoss: 2.330424\n",
      "num_epoch: 20 [53120/60000 (88%)]\tLoss: 2.093388\n",
      "num_epoch: 20 [53760/60000 (90%)]\tLoss: 2.143016\n",
      "num_epoch: 20 [54400/60000 (91%)]\tLoss: 2.002760\n",
      "num_epoch: 20 [55040/60000 (92%)]\tLoss: 2.067276\n",
      "num_epoch: 20 [55680/60000 (93%)]\tLoss: 2.193960\n",
      "num_epoch: 20 [56320/60000 (94%)]\tLoss: 2.147048\n",
      "num_epoch: 20 [56960/60000 (95%)]\tLoss: 2.330713\n",
      "num_epoch: 20 [57600/60000 (96%)]\tLoss: 2.066362\n",
      "num_epoch: 20 [58240/60000 (97%)]\tLoss: 2.536111\n",
      "num_epoch: 20 [58880/60000 (98%)]\tLoss: 2.206342\n",
      "num_epoch: 20 [59520/60000 (99%)]\tLoss: 1.865445\n"
     ]
    }
   ],
   "source": [
    "## PGD based adversarial training\n",
    "model = nn.Sequential(Normalize(), Net())\n",
    "eps = 0.2\n",
    "train_model(model, 20, True, 'pgd', eps)\n",
    "torch.save(model.state_dict(), f'weights_AT_{eps}.pt')"
   ]
  },
  {
   "cell_type": "code",
   "execution_count": 788,
   "metadata": {
    "id": "ufD-ccTFR8R2"
   },
   "outputs": [
    {
     "name": "stdout",
     "output_type": "stream",
     "text": [
      "\n",
      " Eps: 0.05, Robustness: 8052/10000 (81%)\n",
      "\n",
      "\n",
      " Eps: 0.1, Robustness: 6495/10000 (65%)\n",
      "\n",
      "\n",
      " Eps: 0.15, Robustness: 4626/10000 (46%)\n",
      "\n",
      "\n",
      " Eps: 0.2, Robustness: 2440/10000 (24%)\n",
      "\n"
     ]
    }
   ],
   "source": [
    "eps = 0.2\n",
    "model = nn.Sequential(Normalize(), Net())\n",
    "model.load_state_dict(torch.load(f'weights_AT_{eps}.pt'))\n",
    "for eps_ in [0.05, 0.1, 0.15, 0.2]:\n",
    "    test_model_on_attacks(model, attack=None, eps=eps_)"
   ]
  },
  {
   "cell_type": "code",
   "execution_count": 845,
   "metadata": {},
   "outputs": [
    {
     "name": "stdout",
     "output_type": "stream",
     "text": [
      "\n",
      " Accuracy: 9080/10000 (91%)\n",
      "\n"
     ]
    }
   ],
   "source": [
    "standard_test(model, device, test_loader)"
   ]
  },
  {
   "cell_type": "code",
   "execution_count": 841,
   "metadata": {},
   "outputs": [],
   "source": [
    "#C&W attack\n",
    "import torchattacks\n",
    "attack = torchattacks.CW(model, c=0.05, steps=1000, lr=0.01)"
   ]
  },
  {
   "cell_type": "code",
   "execution_count": null,
   "metadata": {},
   "outputs": [],
   "source": []
  }
 ],
 "metadata": {
  "colab": {
   "provenance": []
  },
  "kernelspec": {
   "display_name": "Python 3 (ipykernel)",
   "language": "python",
   "name": "python3"
  },
  "language_info": {
   "codemirror_mode": {
    "name": "ipython",
    "version": 3
   },
   "file_extension": ".py",
   "mimetype": "text/x-python",
   "name": "python",
   "nbconvert_exporter": "python",
   "pygments_lexer": "ipython3",
   "version": "3.9.6"
  }
 },
 "nbformat": 4,
 "nbformat_minor": 4
}
